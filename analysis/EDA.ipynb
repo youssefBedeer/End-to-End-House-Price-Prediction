{
 "cells": [
  {
   "cell_type": "markdown",
   "metadata": {},
   "source": [
    "## EDA"
   ]
  },
  {
   "cell_type": "code",
   "execution_count": 7,
   "metadata": {},
   "outputs": [
    {
     "name": "stdout",
     "output_type": "stream",
     "text": [
      "paying 100$ using Credit Card\n"
     ]
    }
   ],
   "source": [
    "from abc import ABC, abstractmethod \n",
    "\n",
    "class Payement(ABC):\n",
    "    @abstractmethod \n",
    "    def pay(self):\n",
    "        pass \n",
    "\n",
    "class CreditCardPayement(Payement):\n",
    "    def pay(self):\n",
    "        print( \"paying 100$ using Credit Card\") \n",
    "    \n",
    "class Fawary(Payement):\n",
    "    def  pay(self):\n",
    "        print( \"paying 100$ using Fawary\")\n",
    "    \n",
    "class Cart:\n",
    "    def __init__(self, strategy:Payement):\n",
    "        self.strategy = strategy\n",
    "    def set_strategy(self, strategy:Payement):\n",
    "        self.strategy = strategy \n",
    "    def checkout(self):\n",
    "        return self.strategy.pay()\n",
    "    \n",
    "## user \n",
    "def pay(method:str):\n",
    "    payement_method = Cart(CreditCardPayement()) if method == \"CreditCard\" else Cart(Fawary())\n",
    "    return payement_method.checkout()\n",
    "    \n",
    "\n",
    "if __name__ == \"__main__\":\n",
    "    pay(\"CreditCard\")\n"
   ]
  },
  {
   "cell_type": "code",
   "execution_count": null,
   "metadata": {},
   "outputs": [],
   "source": [
    "if __name__ == \"__main__\":\n",
    "    payement_method = Cart.set_strategy(CreditCardMethod)\n"
   ]
  },
  {
   "cell_type": "code",
   "execution_count": 4,
   "metadata": {},
   "outputs": [
    {
     "name": "stdout",
     "output_type": "stream",
     "text": [
      "Paying 100$ using Credit Card\n",
      "Paying 100$ using Fawry\n"
     ]
    }
   ],
   "source": [
    "from abc import ABC, abstractmethod\n",
    "\n",
    "# Abstract Strategy\n",
    "class Payment(ABC):\n",
    "    @abstractmethod \n",
    "    def pay(self):\n",
    "        pass \n",
    "\n",
    "# Concrete Strategy 1\n",
    "class CreditCardMethod(Payment):\n",
    "    def pay(self):\n",
    "        return \"Paying 100$ using Credit Card\"\n",
    "    \n",
    "# Concrete Strategy 2\n",
    "class FawryMethod(Payment):\n",
    "    def pay(self):\n",
    "        return \"Paying 100$ using Fawry\"\n",
    "\n",
    "# Context\n",
    "class Cart:\n",
    "    def __init__(self, strategy: Payment):\n",
    "        self.strategy = strategy\n",
    "\n",
    "    def set_strategy(self, strategy: Payment):\n",
    "        self.strategy = strategy\n",
    "\n",
    "    def checkout(self):\n",
    "        return self.strategy.pay()\n",
    "\n",
    "# ✅ Example usage:\n",
    "if __name__ == \"__main__\":\n",
    "    credit = CreditCardMethod()\n",
    "    fawry = FawryMethod()\n",
    "\n",
    "    cart = Cart(credit)\n",
    "    print(cart.checkout())  # Paying 100$ using Credit Card\n",
    "\n",
    "    cart.set_strategy(fawry)\n",
    "    print(cart.checkout())  # Paying 100$ using Fawry\n"
   ]
  }
 ],
 "metadata": {
  "kernelspec": {
   "display_name": "Python 3",
   "language": "python",
   "name": "python3"
  },
  "language_info": {
   "codemirror_mode": {
    "name": "ipython",
    "version": 3
   },
   "file_extension": ".py",
   "mimetype": "text/x-python",
   "name": "python",
   "nbconvert_exporter": "python",
   "pygments_lexer": "ipython3",
   "version": "3.12.3"
  }
 },
 "nbformat": 4,
 "nbformat_minor": 2
}
