{
 "cells": [
  {
   "cell_type": "markdown",
   "metadata": {},
   "source": [
    "## EDA"
   ]
  },
  {
   "cell_type": "code",
   "execution_count": 7,
   "metadata": {},
   "outputs": [
    {
     "name": "stdout",
     "output_type": "stream",
     "text": [
      "paying 100$ using Credit Card\n"
     ]
    }
   ],
   "source": [
    "from abc import ABC, abstractmethod \n",
    "\n",
    "class Payement(ABC):\n",
    "    @abstractmethod \n",
    "    def pay(self):\n",
    "        pass \n",
    "\n",
    "class CreditCardPayement(Payement):\n",
    "    def pay(self):\n",
    "        print( \"paying 100$ using Credit Card\") \n",
    "    \n",
    "class Fawary(Payement):\n",
    "    def  pay(self):\n",
    "        print( \"paying 100$ using Fawary\")\n",
    "    \n",
    "class Cart:\n",
    "    def __init__(self, strategy:Payement):\n",
    "        self.strategy = strategy\n",
    "    def set_strategy(self, strategy:Payement):\n",
    "        self.strategy = strategy \n",
    "    def checkout(self):\n",
    "        return self.strategy.pay()\n",
    "    \n",
    "## user \n",
    "def pay(method:str):\n",
    "    payement_method = Cart(CreditCardPayement()) if method == \"CreditCard\" else Cart(Fawary())\n",
    "    return payement_method.checkout()\n",
    "    \n",
    "\n",
    "if __name__ == \"__main__\":\n",
    "    pay(\"CreditCard\")\n"
   ]
  },
  {
   "cell_type": "code",
   "execution_count": null,
   "metadata": {},
   "outputs": [
    {
     "name": "stdout",
     "output_type": "stream",
     "text": [
      "Data Types of Data Frame\n",
      "<class 'pandas.core.frame.DataFrame'>\n",
      "RangeIndex: 3 entries, 0 to 2\n",
      "Data columns (total 2 columns):\n",
      " #   Column  Non-Null Count  Dtype \n",
      "---  ------  --------------  ----- \n",
      " 0   Name    3 non-null      object\n",
      " 1   Age     3 non-null      int64 \n",
      "dtypes: int64(1), object(1)\n",
      "memory usage: 180.0+ bytes\n"
     ]
    }
   ],
   "source": [
    "import pandas as pd\n",
    "from analyze_src.basic_data_inspection import explore \n",
    "data = {\n",
    "    \"Name\":[\"youssef\", \"ali\", \"ahmed\"],\n",
    "    \"Age\" :[21, 27, 61]\n",
    "}\n",
    "df = pd.DataFrame(data)\n",
    "explore(\"info\", df)\n",
    "explore(\"summary\", df)"
   ]
  }
 ],
 "metadata": {
  "kernelspec": {
   "display_name": "base",
   "language": "python",
   "name": "python3"
  },
  "language_info": {
   "codemirror_mode": {
    "name": "ipython",
    "version": 3
   },
   "file_extension": ".py",
   "mimetype": "text/x-python",
   "name": "python",
   "nbconvert_exporter": "python",
   "pygments_lexer": "ipython3",
   "version": "3.12.7"
  }
 },
 "nbformat": 4,
 "nbformat_minor": 2
}
